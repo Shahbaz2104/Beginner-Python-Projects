{
 "cells": [
  {
   "cell_type": "code",
   "execution_count": 1,
   "id": "6997d02e-5e26-4327-8cb3-7716fd3735b9",
   "metadata": {},
   "outputs": [
    {
     "name": "stdout",
     "output_type": "stream",
     "text": [
      "🎯 Welcome to the Number Guessing Game!\n",
      "Choose difficulty:\n",
      "1. Easy (1–100)\n",
      "2. Hard (1–1000)\n"
     ]
    },
    {
     "name": "stdin",
     "output_type": "stream",
     "text": [
      "Enter 1 or 2:  1\n"
     ]
    },
    {
     "name": "stdout",
     "output_type": "stream",
     "text": [
      "\n",
      "I'm thinking of a number between 1 and 100.\n",
      "You have 7 attempts. Good luck!\n"
     ]
    },
    {
     "name": "stdin",
     "output_type": "stream",
     "text": [
      "Enter your guess:  80\n"
     ]
    },
    {
     "name": "stdout",
     "output_type": "stream",
     "text": [
      "🔺 Too high!\n"
     ]
    },
    {
     "name": "stdin",
     "output_type": "stream",
     "text": [
      "Enter your guess:  50\n"
     ]
    },
    {
     "name": "stdout",
     "output_type": "stream",
     "text": [
      "🔺 Too high!\n"
     ]
    },
    {
     "name": "stdin",
     "output_type": "stream",
     "text": [
      "Enter your guess:  30\n"
     ]
    },
    {
     "name": "stdout",
     "output_type": "stream",
     "text": [
      "🔺 Too high!\n"
     ]
    },
    {
     "name": "stdin",
     "output_type": "stream",
     "text": [
      "Enter your guess:  20\n"
     ]
    },
    {
     "name": "stdout",
     "output_type": "stream",
     "text": [
      "🔺 Too high!\n"
     ]
    },
    {
     "name": "stdin",
     "output_type": "stream",
     "text": [
      "Enter your guess:  10\n"
     ]
    },
    {
     "name": "stdout",
     "output_type": "stream",
     "text": [
      "🔻 Too low!\n"
     ]
    },
    {
     "name": "stdin",
     "output_type": "stream",
     "text": [
      "Enter your guess:  15\n"
     ]
    },
    {
     "name": "stdout",
     "output_type": "stream",
     "text": [
      "\n",
      "🎉 Correct! You guessed it in 6 tries.\n"
     ]
    },
    {
     "name": "stdin",
     "output_type": "stream",
     "text": [
      "Enter your name for the leaderboard:  Shahbaz\n"
     ]
    },
    {
     "name": "stdout",
     "output_type": "stream",
     "text": [
      "\n",
      "🏆 Leaderboard:\n",
      "   Shahbaz - 6 attempts\n"
     ]
    },
    {
     "name": "stdin",
     "output_type": "stream",
     "text": [
      "\n",
      "🔁 Do you want to play again? (yes/no):  yes\n"
     ]
    },
    {
     "name": "stdout",
     "output_type": "stream",
     "text": [
      "🎯 Welcome to the Number Guessing Game!\n",
      "Choose difficulty:\n",
      "1. Easy (1–100)\n",
      "2. Hard (1–1000)\n"
     ]
    },
    {
     "name": "stdin",
     "output_type": "stream",
     "text": [
      "Enter 1 or 2:  1\n"
     ]
    },
    {
     "name": "stdout",
     "output_type": "stream",
     "text": [
      "\n",
      "I'm thinking of a number between 1 and 100.\n",
      "You have 7 attempts. Good luck!\n"
     ]
    },
    {
     "name": "stdin",
     "output_type": "stream",
     "text": [
      "Enter your guess:  100\n"
     ]
    },
    {
     "name": "stdout",
     "output_type": "stream",
     "text": [
      "🔺 Too high!\n"
     ]
    },
    {
     "name": "stdin",
     "output_type": "stream",
     "text": [
      "Enter your guess:  60\n"
     ]
    },
    {
     "name": "stdout",
     "output_type": "stream",
     "text": [
      "🔺 Too high!\n"
     ]
    },
    {
     "name": "stdin",
     "output_type": "stream",
     "text": [
      "Enter your guess:  30\n"
     ]
    },
    {
     "name": "stdout",
     "output_type": "stream",
     "text": [
      "🔻 Too low!\n"
     ]
    },
    {
     "name": "stdin",
     "output_type": "stream",
     "text": [
      "Enter your guess:  40\n"
     ]
    },
    {
     "name": "stdout",
     "output_type": "stream",
     "text": [
      "🔻 Too low!\n"
     ]
    },
    {
     "name": "stdin",
     "output_type": "stream",
     "text": [
      "Enter your guess:  50\n"
     ]
    },
    {
     "name": "stdout",
     "output_type": "stream",
     "text": [
      "🔻 Too low!\n"
     ]
    },
    {
     "name": "stdin",
     "output_type": "stream",
     "text": [
      "Enter your guess:  55\n"
     ]
    },
    {
     "name": "stdout",
     "output_type": "stream",
     "text": [
      "🔻 Too low!\n"
     ]
    },
    {
     "name": "stdin",
     "output_type": "stream",
     "text": [
      "Enter your guess:  58\n"
     ]
    },
    {
     "name": "stdout",
     "output_type": "stream",
     "text": [
      "\n",
      "🎉 Correct! You guessed it in 7 tries.\n"
     ]
    },
    {
     "name": "stdin",
     "output_type": "stream",
     "text": [
      "Enter your name for the leaderboard:  sh\n"
     ]
    },
    {
     "name": "stdout",
     "output_type": "stream",
     "text": [
      "\n",
      "🏆 Leaderboard:\n",
      "   Shahbaz - 6 attempts\n",
      "   sh - 7 attempts\n"
     ]
    },
    {
     "name": "stdin",
     "output_type": "stream",
     "text": [
      "\n",
      "🔁 Do you want to play again? (yes/no):  no\n"
     ]
    },
    {
     "name": "stdout",
     "output_type": "stream",
     "text": [
      "👋 Thanks for playing! Goodbye!\n"
     ]
    }
   ],
   "source": [
    "import random\n",
    "import time\n",
    "\n",
    "# Constants\n",
    "EASY_RANGE = 100\n",
    "HARD_RANGE = 1000\n",
    "MAX_ATTEMPTS = 7\n",
    "LEADERBOARD_FILE = \"leaderboard.txt\"\n",
    "\n",
    "# Load or create leaderboard\n",
    "def load_leaderboard():\n",
    "    try:\n",
    "        with open(LEADERBOARD_FILE, \"r\") as f:\n",
    "            scores = [line.strip() for line in f.readlines()]\n",
    "            return scores\n",
    "    except FileNotFoundError:\n",
    "        return []\n",
    "\n",
    "def save_score(name, attempts):\n",
    "    with open(LEADERBOARD_FILE, \"a\") as f:\n",
    "        f.write(f\"{name} - {attempts} attempts\\n\")\n",
    "\n",
    "def show_leaderboard():\n",
    "    print(\"\\n🏆 Leaderboard:\")\n",
    "    scores = load_leaderboard()\n",
    "    if scores:\n",
    "        for line in scores:\n",
    "            print(\"  \", line)\n",
    "    else:\n",
    "        print(\"  No scores yet.\")\n",
    "\n",
    "# Main game logic\n",
    "def play_game():\n",
    "    print(\"🎯 Welcome to the Number Guessing Game!\")\n",
    "    print(\"Choose difficulty:\")\n",
    "    print(\"1. Easy (1–100)\")\n",
    "    print(\"2. Hard (1–1000)\")\n",
    "\n",
    "    while True:\n",
    "        difficulty = input(\"Enter 1 or 2: \")\n",
    "        if difficulty == '1':\n",
    "            max_number = EASY_RANGE\n",
    "            break\n",
    "        elif difficulty == '2':\n",
    "            max_number = HARD_RANGE\n",
    "            break\n",
    "        else:\n",
    "            print(\"❌ Invalid input. Choose 1 or 2.\")\n",
    "\n",
    "    secret_number = random.randint(1, max_number)\n",
    "    attempts = 0\n",
    "\n",
    "    print(f\"\\nI'm thinking of a number between 1 and {max_number}.\")\n",
    "    print(f\"You have {MAX_ATTEMPTS} attempts. Good luck!\")\n",
    "\n",
    "    while attempts < MAX_ATTEMPTS:\n",
    "        guess = input(\"Enter your guess: \")\n",
    "\n",
    "        if not guess.isdigit():\n",
    "            print(\"❗ Please enter a valid number.\")\n",
    "            continue\n",
    "\n",
    "        guess = int(guess)\n",
    "        attempts += 1\n",
    "\n",
    "        if guess < secret_number:\n",
    "            print(\"🔻 Too low!\")\n",
    "        elif guess > secret_number:\n",
    "            print(\"🔺 Too high!\")\n",
    "        else:\n",
    "            print(f\"\\n🎉 Correct! You guessed it in {attempts} tries.\")\n",
    "            name = input(\"Enter your name for the leaderboard: \")\n",
    "            save_score(name, attempts)\n",
    "            return\n",
    "\n",
    "    print(f\"\\n💥 Out of attempts! The number was {secret_number}.\")\n",
    "\n",
    "# Game loop\n",
    "while True:\n",
    "    play_game()\n",
    "    show_leaderboard()\n",
    "    again = input(\"\\n🔁 Do you want to play again? (yes/no): \").lower()\n",
    "    if again != 'yes':\n",
    "        print(\"👋 Thanks for playing! Goodbye!\")\n",
    "        break\n"
   ]
  },
  {
   "cell_type": "code",
   "execution_count": null,
   "id": "789c97f3-afc2-47f7-8d88-87a763429dcf",
   "metadata": {},
   "outputs": [],
   "source": []
  }
 ],
 "metadata": {
  "kernelspec": {
   "display_name": "Python 3 (ipykernel)",
   "language": "python",
   "name": "python3"
  },
  "language_info": {
   "codemirror_mode": {
    "name": "ipython",
    "version": 3
   },
   "file_extension": ".py",
   "mimetype": "text/x-python",
   "name": "python",
   "nbconvert_exporter": "python",
   "pygments_lexer": "ipython3",
   "version": "3.12.9"
  }
 },
 "nbformat": 4,
 "nbformat_minor": 5
}
