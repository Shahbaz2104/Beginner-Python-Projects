{
 "cells": [
  {
   "cell_type": "code",
   "execution_count": null,
   "id": "0ed0c06b-80d8-478d-bd4f-39c70920b9f9",
   "metadata": {},
   "outputs": [
    {
     "name": "stdout",
     "output_type": "stream",
     "text": [
      "🧮 Advanced Calculator\n",
      "\n",
      "    Select operation:\n",
      "    1. Addition (+)\n",
      "    2. Subtraction (-)\n",
      "    3. Multiplication (*)\n",
      "    4. Division (/)\n",
      "    5. Power (^)\n",
      "    6. Modulus (%)\n",
      "    7. Square Root (√x)\n",
      "    8. Logarithm Base 10 (log10)\n",
      "    9. Natural Logarithm (ln)\n",
      "    \n"
     ]
    },
    {
     "name": "stdin",
     "output_type": "stream",
     "text": [
      "Enter your choice (1-9):  7\n",
      "Enter number:  49\n"
     ]
    },
    {
     "name": "stdout",
     "output_type": "stream",
     "text": [
      "✅ Result: 7.0\n"
     ]
    }
   ],
   "source": [
    "import math\n",
    "\n",
    "def add(x, y): return x + y\n",
    "def subtract(x, y): return x - y\n",
    "def multiply(x, y): return x * y\n",
    "def divide(x, y): return \"❌ Cannot divide by zero.\" if y == 0 else x / y\n",
    "def power(x, y): return x ** y\n",
    "def modulus(x, y): return x % y\n",
    "def sqrt(x): return math.sqrt(x) if x >= 0 else \"❌ Cannot take square root of a negative number.\"\n",
    "def log_base10(x): return math.log10(x) if x > 0 else \"❌ Logarithm undefined for non-positive numbers.\"\n",
    "def log_natural(x): return math.log(x) if x > 0 else \"❌ Logarithm undefined for non-positive numbers.\"\n",
    "\n",
    "def calculator():\n",
    "    print(\"🧮 Advanced Calculator\")\n",
    "    print(\"\"\"\n",
    "    Select operation:\n",
    "    1. Addition (+)\n",
    "    2. Subtraction (-)\n",
    "    3. Multiplication (*)\n",
    "    4. Division (/)\n",
    "    5. Power (^)\n",
    "    6. Modulus (%)\n",
    "    7. Square Root (√x)\n",
    "    8. Logarithm Base 10 (log10)\n",
    "    9. Natural Logarithm (ln)\n",
    "    \"\"\")\n",
    "\n",
    "    while True:\n",
    "        choice = input(\"Enter your choice (1-9): \")\n",
    "\n",
    "        if choice not in [str(i) for i in range(1, 10)]:\n",
    "            print(\"❗ Invalid choice. Please select from 1 to 9.\")\n",
    "            continue\n",
    "\n",
    "        try:\n",
    "            if choice in ['7', '8', '9']:\n",
    "                num = float(input(\"Enter number: \"))\n",
    "            else:\n",
    "                num1 = float(input(\"Enter first number: \"))\n",
    "                num2 = float(input(\"Enter second number: \"))\n",
    "        except ValueError:\n",
    "            print(\"❌ Please enter valid numbers.\")\n",
    "            continue\n",
    "\n",
    "        if choice == '1':\n",
    "            result = add(num1, num2)\n",
    "        elif choice == '2':\n",
    "            result = subtract(num1, num2)\n",
    "        elif choice == '3':\n",
    "            result = multiply(num1, num2)\n",
    "        elif choice == '4':\n",
    "            result = divide(num1, num2)\n",
    "        elif choice == '5':\n",
    "            result = power(num1, num2)\n",
    "        elif choice == '6':\n",
    "            result = modulus(num1, num2)\n",
    "        elif choice == '7':\n",
    "            result = sqrt(num)\n",
    "        elif choice == '8':\n",
    "            result = log_base10(num)\n",
    "        elif choice == '9':\n",
    "            result = log_natural(num)\n",
    "\n",
    "        print(f\"✅ Result: {result}\")\n",
    "\n",
    "        again = input(\"\\n🔁 Do you want to perform another calculation? (yes/no): \").lower()\n",
    "        if again != 'yes':\n",
    "            print(\"👋 Thanks for using the calculator!\")\n",
    "            break\n",
    "\n",
    "# Run the calculator\n",
    "calculator()\n"
   ]
  },
  {
   "cell_type": "code",
   "execution_count": null,
   "id": "3c9c4dbf-5ee4-4f99-ae14-dae7910362d2",
   "metadata": {},
   "outputs": [],
   "source": []
  }
 ],
 "metadata": {
  "kernelspec": {
   "display_name": "Python 3 (ipykernel)",
   "language": "python",
   "name": "python3"
  },
  "language_info": {
   "codemirror_mode": {
    "name": "ipython",
    "version": 3
   },
   "file_extension": ".py",
   "mimetype": "text/x-python",
   "name": "python",
   "nbconvert_exporter": "python",
   "pygments_lexer": "ipython3",
   "version": "3.12.9"
  }
 },
 "nbformat": 4,
 "nbformat_minor": 5
}
